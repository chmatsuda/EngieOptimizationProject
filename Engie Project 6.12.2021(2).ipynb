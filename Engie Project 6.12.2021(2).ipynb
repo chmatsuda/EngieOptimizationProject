{
 "cells": [
  {
   "cell_type": "code",
   "execution_count": 4,
   "id": "d5f4d3d0",
   "metadata": {},
   "outputs": [],
   "source": [
    "### Initialize\n",
    "import XLSX, ExcelFiles, DataTables, DataFrames, CSV, Plots"
   ]
  },
  {
   "cell_type": "code",
   "execution_count": 5,
   "id": "d19d9721",
   "metadata": {
    "scrolled": true
   },
   "outputs": [
    {
     "data": {
      "text/html": [
       "<table class=\"data-frame\"><thead><tr><th></th><th>hour</th><th>heating_kW_th_h_m2_</th><th>PV_electricity_kW</th><th>Wind_electricity_kW</th><th>Demand_kW</th></tr><tr><th></th><th>Float64?</th><th>Float64?</th><th>Float64?</th><th>Float64?</th><th>Float64?</th></tr></thead><tbody><p>24,370 rows × 9 columns (omitted printing of 4 columns)</p><tr><th>1</th><td>1.0</td><td>0.0</td><td>0.0</td><td>0.0839</td><td>1664.74</td></tr><tr><th>2</th><td>2.0</td><td>0.0001</td><td>0.0</td><td>0.0839</td><td>1551.21</td></tr><tr><th>3</th><td>3.0</td><td>0.0</td><td>0.0</td><td>0.0839</td><td>1429.02</td></tr><tr><th>4</th><td>4.0</td><td>0.0012</td><td>0.0</td><td>0.0839</td><td>1350.95</td></tr><tr><th>5</th><td>5.0</td><td>0.0081</td><td>0.0</td><td>0.0839</td><td>1324.06</td></tr><tr><th>6</th><td>6.0</td><td>0.009</td><td>0.0</td><td>0.0839</td><td>1296.71</td></tr><tr><th>7</th><td>7.0</td><td>0.0139</td><td>0.0</td><td>0.0839</td><td>1597.59</td></tr><tr><th>8</th><td>8.0</td><td>0.0194</td><td>0.0</td><td>0.1533</td><td>1479.02</td></tr><tr><th>9</th><td>9.0</td><td>0.0171</td><td>0.0</td><td>0.1533</td><td>1791.12</td></tr><tr><th>10</th><td>10.0</td><td>0.0158</td><td>0.0218</td><td>0.1533</td><td>1686.5</td></tr><tr><th>11</th><td>11.0</td><td>0.0153</td><td>0.027</td><td>0.1533</td><td>1479.02</td></tr><tr><th>12</th><td>12.0</td><td>0.0164</td><td>0.0526</td><td>0.1533</td><td>1503.45</td></tr><tr><th>13</th><td>13.0</td><td>0.0162</td><td>0.0719</td><td>0.1533</td><td>1324.06</td></tr><tr><th>14</th><td>14.0</td><td>0.016</td><td>0.0449</td><td>0.1533</td><td>1182.37</td></tr><tr><th>15</th><td>15.0</td><td>0.0073</td><td>0.0321</td><td>0.0839</td><td>1121.99</td></tr><tr><th>16</th><td>16.0</td><td>0.0059</td><td>0.0051</td><td>0.0839</td><td>1211.73</td></tr><tr><th>17</th><td>17.0</td><td>0.0059</td><td>0.0</td><td>0.0839</td><td>1429.02</td></tr><tr><th>18</th><td>18.0</td><td>0.0013</td><td>0.0</td><td>0.1533</td><td>1707.98</td></tr><tr><th>19</th><td>19.0</td><td>0.0017</td><td>0.0</td><td>0.0839</td><td>1454.21</td></tr><tr><th>20</th><td>20.0</td><td>0.0018</td><td>0.0</td><td>0.0839</td><td>1377.4</td></tr><tr><th>21</th><td>21.0</td><td>0.0013</td><td>0.0</td><td>0.0839</td><td>1268.88</td></tr><tr><th>22</th><td>22.0</td><td>0.001</td><td>0.0</td><td>0.0839</td><td>1211.73</td></tr><tr><th>23</th><td>23.0</td><td>0.0006</td><td>0.0</td><td>0.1533</td><td>1182.37</td></tr><tr><th>24</th><td>24.0</td><td>0.0004</td><td>0.0</td><td>0.1533</td><td>1296.71</td></tr><tr><th>25</th><td>25.0</td><td>0.0003</td><td>0.0</td><td>0.1533</td><td>1429.02</td></tr><tr><th>26</th><td>26.0</td><td>0.0001</td><td>0.0</td><td>0.1533</td><td>1503.45</td></tr><tr><th>27</th><td>27.0</td><td>0.0017</td><td>0.0</td><td>0.0839</td><td>1403.41</td></tr><tr><th>28</th><td>28.0</td><td>0.0063</td><td>0.0</td><td>0.0839</td><td>1240.56</td></tr><tr><th>29</th><td>29.0</td><td>0.0091</td><td>0.0</td><td>0.0839</td><td>2306.16</td></tr><tr><th>30</th><td>30.0</td><td>0.01</td><td>0.0</td><td>0.0372</td><td>2762.77</td></tr><tr><th>&vellip;</th><td>&vellip;</td><td>&vellip;</td><td>&vellip;</td><td>&vellip;</td><td>&vellip;</td></tr></tbody></table>"
      ],
      "text/latex": [
       "\\begin{tabular}{r|cccccc}\n",
       "\t& hour & heating\\_kW\\_th\\_h\\_m2\\_ & PV\\_electricity\\_kW & Wind\\_electricity\\_kW & Demand\\_kW & \\\\\n",
       "\t\\hline\n",
       "\t& Float64? & Float64? & Float64? & Float64? & Float64? & \\\\\n",
       "\t\\hline\n",
       "\t1 & 1.0 & 0.0 & 0.0 & 0.0839 & 1664.74 & $\\dots$ \\\\\n",
       "\t2 & 2.0 & 0.0001 & 0.0 & 0.0839 & 1551.21 & $\\dots$ \\\\\n",
       "\t3 & 3.0 & 0.0 & 0.0 & 0.0839 & 1429.02 & $\\dots$ \\\\\n",
       "\t4 & 4.0 & 0.0012 & 0.0 & 0.0839 & 1350.95 & $\\dots$ \\\\\n",
       "\t5 & 5.0 & 0.0081 & 0.0 & 0.0839 & 1324.06 & $\\dots$ \\\\\n",
       "\t6 & 6.0 & 0.009 & 0.0 & 0.0839 & 1296.71 & $\\dots$ \\\\\n",
       "\t7 & 7.0 & 0.0139 & 0.0 & 0.0839 & 1597.59 & $\\dots$ \\\\\n",
       "\t8 & 8.0 & 0.0194 & 0.0 & 0.1533 & 1479.02 & $\\dots$ \\\\\n",
       "\t9 & 9.0 & 0.0171 & 0.0 & 0.1533 & 1791.12 & $\\dots$ \\\\\n",
       "\t10 & 10.0 & 0.0158 & 0.0218 & 0.1533 & 1686.5 & $\\dots$ \\\\\n",
       "\t11 & 11.0 & 0.0153 & 0.027 & 0.1533 & 1479.02 & $\\dots$ \\\\\n",
       "\t12 & 12.0 & 0.0164 & 0.0526 & 0.1533 & 1503.45 & $\\dots$ \\\\\n",
       "\t13 & 13.0 & 0.0162 & 0.0719 & 0.1533 & 1324.06 & $\\dots$ \\\\\n",
       "\t14 & 14.0 & 0.016 & 0.0449 & 0.1533 & 1182.37 & $\\dots$ \\\\\n",
       "\t15 & 15.0 & 0.0073 & 0.0321 & 0.0839 & 1121.99 & $\\dots$ \\\\\n",
       "\t16 & 16.0 & 0.0059 & 0.0051 & 0.0839 & 1211.73 & $\\dots$ \\\\\n",
       "\t17 & 17.0 & 0.0059 & 0.0 & 0.0839 & 1429.02 & $\\dots$ \\\\\n",
       "\t18 & 18.0 & 0.0013 & 0.0 & 0.1533 & 1707.98 & $\\dots$ \\\\\n",
       "\t19 & 19.0 & 0.0017 & 0.0 & 0.0839 & 1454.21 & $\\dots$ \\\\\n",
       "\t20 & 20.0 & 0.0018 & 0.0 & 0.0839 & 1377.4 & $\\dots$ \\\\\n",
       "\t21 & 21.0 & 0.0013 & 0.0 & 0.0839 & 1268.88 & $\\dots$ \\\\\n",
       "\t22 & 22.0 & 0.001 & 0.0 & 0.0839 & 1211.73 & $\\dots$ \\\\\n",
       "\t23 & 23.0 & 0.0006 & 0.0 & 0.1533 & 1182.37 & $\\dots$ \\\\\n",
       "\t24 & 24.0 & 0.0004 & 0.0 & 0.1533 & 1296.71 & $\\dots$ \\\\\n",
       "\t25 & 25.0 & 0.0003 & 0.0 & 0.1533 & 1429.02 & $\\dots$ \\\\\n",
       "\t26 & 26.0 & 0.0001 & 0.0 & 0.1533 & 1503.45 & $\\dots$ \\\\\n",
       "\t27 & 27.0 & 0.0017 & 0.0 & 0.0839 & 1403.41 & $\\dots$ \\\\\n",
       "\t28 & 28.0 & 0.0063 & 0.0 & 0.0839 & 1240.56 & $\\dots$ \\\\\n",
       "\t29 & 29.0 & 0.0091 & 0.0 & 0.0839 & 2306.16 & $\\dots$ \\\\\n",
       "\t30 & 30.0 & 0.01 & 0.0 & 0.0372 & 2762.77 & $\\dots$ \\\\\n",
       "\t$\\dots$ & $\\dots$ & $\\dots$ & $\\dots$ & $\\dots$ & $\\dots$ &  \\\\\n",
       "\\end{tabular}\n"
      ],
      "text/plain": [
       "\u001b[1m24370×9 DataFrame\u001b[0m\n",
       "\u001b[1m   Row \u001b[0m│\u001b[1m hour      \u001b[0m\u001b[1m heating_kW_th_h_m2_ \u001b[0m\u001b[1m PV_electricity_kW \u001b[0m\u001b[1m Wind_electricity_k\u001b[0m ⋯\n",
       "\u001b[1m       \u001b[0m│\u001b[90m Float64?  \u001b[0m\u001b[90m Float64?            \u001b[0m\u001b[90m Float64?          \u001b[0m\u001b[90m Float64?          \u001b[0m ⋯\n",
       "───────┼────────────────────────────────────────────────────────────────────────\n",
       "     1 │       1.0               0.0                0.0                  0.083 ⋯\n",
       "     2 │       2.0               0.0001             0.0                  0.083\n",
       "     3 │       3.0               0.0                0.0                  0.083\n",
       "     4 │       4.0               0.0012             0.0                  0.083\n",
       "     5 │       5.0               0.0081             0.0                  0.083 ⋯\n",
       "     6 │       6.0               0.009              0.0                  0.083\n",
       "     7 │       7.0               0.0139             0.0                  0.083\n",
       "     8 │       8.0               0.0194             0.0                  0.153\n",
       "     9 │       9.0               0.0171             0.0                  0.153 ⋯\n",
       "    10 │      10.0               0.0158             0.0218               0.153\n",
       "    11 │      11.0               0.0153             0.027                0.153\n",
       "   ⋮   │     ⋮               ⋮                   ⋮                   ⋮         ⋱\n",
       " 24361 │\u001b[90m missing   \u001b[0m\u001b[90m        missing      \u001b[0m\u001b[90m      missing      \u001b[0m\u001b[90m        missing\u001b[0m\n",
       " 24362 │\u001b[90m missing   \u001b[0m\u001b[90m        missing      \u001b[0m\u001b[90m      missing      \u001b[0m\u001b[90m        missing    \u001b[0m ⋯\n",
       " 24363 │\u001b[90m missing   \u001b[0m\u001b[90m        missing      \u001b[0m\u001b[90m      missing      \u001b[0m\u001b[90m        missing\u001b[0m\n",
       " 24364 │\u001b[90m missing   \u001b[0m\u001b[90m        missing      \u001b[0m\u001b[90m      missing      \u001b[0m\u001b[90m        missing\u001b[0m\n",
       " 24365 │\u001b[90m missing   \u001b[0m\u001b[90m        missing      \u001b[0m\u001b[90m      missing      \u001b[0m\u001b[90m        missing\u001b[0m\n",
       " 24366 │\u001b[90m missing   \u001b[0m\u001b[90m        missing      \u001b[0m\u001b[90m      missing      \u001b[0m\u001b[90m        missing    \u001b[0m ⋯\n",
       " 24367 │\u001b[90m missing   \u001b[0m\u001b[90m        missing      \u001b[0m\u001b[90m      missing      \u001b[0m\u001b[90m        missing\u001b[0m\n",
       " 24368 │\u001b[90m missing   \u001b[0m\u001b[90m        missing      \u001b[0m\u001b[90m      missing      \u001b[0m\u001b[90m        missing\u001b[0m\n",
       " 24369 │\u001b[90m missing   \u001b[0m\u001b[90m        missing      \u001b[0m\u001b[90m      missing      \u001b[0m\u001b[90m        missing\u001b[0m\n",
       " 24370 │\u001b[90m missing   \u001b[0m\u001b[90m        missing      \u001b[0m\u001b[90m      missing      \u001b[0m\u001b[90m        missing    \u001b[0m ⋯\n",
       "\u001b[36m                                                6 columns and 24349 rows omitted\u001b[0m"
      ]
     },
     "execution_count": 5,
     "metadata": {},
     "output_type": "execute_result"
    }
   ],
   "source": [
    "##Reading in Data\n",
    "using CSV, DataFrames\n",
    "Data = CSV.read(\"Data.csv\", DataFrame, normalizenames=true)\n"
   ]
  },
  {
   "cell_type": "code",
   "execution_count": 14,
   "id": "e95b6e27",
   "metadata": {},
   "outputs": [
    {
     "data": {
      "text/plain": [
       "8760-element Array{Float64,1}:\n",
       " 0.0689\n",
       " 0.065\n",
       " 0.0603\n",
       " 0.05\n",
       " 0.0477\n",
       " 0.048\n",
       " 0.0498\n",
       " 0.0551\n",
       " 0.0448\n",
       " 0.0496\n",
       " 0.0554\n",
       " 0.0626\n",
       " 0.0574\n",
       " ⋮\n",
       " 0.0386\n",
       " 0.0379\n",
       " 0.038\n",
       " 0.0396\n",
       " 0.0423\n",
       " 0.0461\n",
       " 0.0477\n",
       " 0.046\n",
       " 0.0422\n",
       " 0.0397\n",
       " 0.0389\n",
       " 0.0372"
      ]
     },
     "execution_count": 14,
     "metadata": {},
     "output_type": "execute_result"
    }
   ],
   "source": [
    "ElecDemand = Data[1:8760,5] #kW\n",
    "PV = Data[1:8760,3] #kW\n",
    "Cost_Elec = Data[1:8760,6]\n",
    "ElecDemand = identity.(ElecDemand)\n",
    "PV = identity.(PV)\n",
    "Cost_Elec = identity.(Cost_Elec)\n"
   ]
  },
  {
   "cell_type": "markdown",
   "id": "63e39610",
   "metadata": {},
   "source": [
    "Long Term Variables (Investment Variables) :\n",
    "E_Rated = Battery Rated Capacity\n",
    "P_Rated = Battery Rated Power\n",
    "Binary 1: Invest in Battery\n",
    "Binary 2: Don't Invest in Battery"
   ]
  },
  {
   "cell_type": "markdown",
   "id": "dc23901e",
   "metadata": {},
   "source": [
    "Short Term Variables (Operational Variables):\n",
    "EState_Batt = Battery State of Charge at Time t\n",
    "PState_Batt = Battery Power at Time t\n",
    "P_Grid = Power Consumed/ Injected to the grid"
   ]
  },
  {
   "cell_type": "markdown",
   "id": "56cb83aa",
   "metadata": {},
   "source": [
    "Parameters\n",
    "\n",
    "Cost_BattE = Investment Cost of Battery, energy component\n",
    "\n",
    "Cost_BattP = Investment cost of battery, power \n",
    "\n",
    "Cost_OM= Fixed yearly operation and maintenance costs\n",
    "\n",
    "DiscountRate = discount rate, werighted average cost of capital\n",
    "\n",
    "Cost_Electricity = Price of Electricity (optional binary)\n"
   ]
  },
  {
   "cell_type": "code",
   "execution_count": 24,
   "id": "9b795c18",
   "metadata": {},
   "outputs": [
    {
     "data": {
      "text/plain": [
       "1500.0"
      ]
     },
     "execution_count": 24,
     "metadata": {},
     "output_type": "execute_result"
    }
   ],
   "source": [
    "BatteryMaxCap = 1.5E3*3600 #kWh\n",
    "RatedPower = 1.5E3 #kW"
   ]
  },
  {
   "cell_type": "code",
   "execution_count": 15,
   "id": "220853b9",
   "metadata": {},
   "outputs": [
    {
     "data": {
      "text/plain": [
       "8760-element Array{Float64,1}:\n",
       " 0.0689\n",
       " 0.065\n",
       " 0.0603\n",
       " 0.05\n",
       " 0.0477\n",
       " 0.048\n",
       " 0.0498\n",
       " 0.0551\n",
       " 0.0448\n",
       " 0.0496\n",
       " 0.0554\n",
       " 0.0626\n",
       " 0.0574\n",
       " ⋮\n",
       " 0.0386\n",
       " 0.0379\n",
       " 0.038\n",
       " 0.0396\n",
       " 0.0423\n",
       " 0.0461\n",
       " 0.0477\n",
       " 0.046\n",
       " 0.0422\n",
       " 0.0397\n",
       " 0.0389\n",
       " 0.0372"
      ]
     },
     "execution_count": 15,
     "metadata": {},
     "output_type": "execute_result"
    }
   ],
   "source": [
    "Cost_Elec"
   ]
  },
  {
   "cell_type": "code",
   "execution_count": 33,
   "id": "380d7d88",
   "metadata": {},
   "outputs": [
    {
     "name": "stdout",
     "output_type": "stream",
     "text": [
      "Academic license - for non-commercial use only - expires 2021-08-04\r\n"
     ]
    },
    {
     "ename": "LoadError",
     "evalue": "\u001b[91mThe objective function `Base.Generator{UnitRange{Int64},var\"#37#38\"}(var\"#37#38\"(), 1:8760)` is not supported by JuMP.\u001b[39m",
     "output_type": "error",
     "traceback": [
      "\u001b[91mThe objective function `Base.Generator{UnitRange{Int64},var\"#37#38\"}(var\"#37#38\"(), 1:8760)` is not supported by JuMP.\u001b[39m",
      "",
      "Stacktrace:",
      " [1] error(::String) at .\\error.jl:33",
      " [2] set_objective_function(::Model, ::Base.Generator{UnitRange{Int64},var\"#37#38\"}) at C:\\Users\\chmat\\.julia\\packages\\JuMP\\y5vgk\\src\\objective.jl:123",
      " [3] set_objective(::Model, ::MathOptInterface.OptimizationSense, ::Base.Generator{UnitRange{Int64},var\"#37#38\"}) at C:\\Users\\chmat\\.julia\\packages\\JuMP\\y5vgk\\src\\objective.jl:148",
      " [4] top-level scope at C:\\Users\\chmat\\.julia\\packages\\JuMP\\y5vgk\\src\\macros.jl:929",
      " [5] top-level scope at In[33]:8",
      " [6] include_string(::Function, ::Module, ::String, ::String) at .\\loading.jl:1091"
     ]
    }
   ],
   "source": [
    "using JuMP, Gurobi\n",
    "\n",
    "model = Model(Gurobi.Optimizer)\n",
    "@variable(model,P_Batt[1:8760])\n",
    "@variable(model,P_Grid[1:8760])\n",
    "@variable(model,E_Batt[1:8760])\n",
    "\n",
    "@objective(model, Min, sum(P_Grid[i]*Cost_Elec[i]) for i in 1:8760)\n",
    "\n",
    "@constraint(model,[i = 1:8760],ElecDemand[1:8760] == PV[1:8760]+P_Batt[1:8760]+P_Grid[1:8760])\n",
    " # + if pulling from supply, ex P_Batt = +5 means taking 5kW from battery -5 would be saving 5kw\n",
    "@constraint((model),E_Batt[1] == BatteryMaxCap)\n",
    "@constraint(model, [ i=1:8760], P_Grid[i]*3600 <= E_Batt[i]) ##check indexing\n",
    "@constraint(model, [ i=1:8760], E_Batt[i+1] == E_Batt[i]+P_Grid[i]*3600 for i in 1:8759)\n",
    "@constraint(model, [ i=1:8760], P_Batt[i] < RatedPower)"
   ]
  },
  {
   "cell_type": "code",
   "execution_count": null,
   "id": "81f42d19",
   "metadata": {},
   "outputs": [],
   "source": []
  },
  {
   "cell_type": "code",
   "execution_count": null,
   "id": "f7ffee30",
   "metadata": {},
   "outputs": [],
   "source": [
    "Cost_BattE = 300\n",
    "#300 euro / kWh from Excel Sheet\n",
    "Cost_BattP = 300\n",
    "#300 euro/ kW from Excel Sheet\n",
    "Cost_OM = 20.5 * E_Rated\n",
    "#20.5 euro / kWh / Yr from Excel Sheet\n",
    "Discount_Rate = .0025 \n",
    "## 0.25% ? CHECK THIS\n",
    "Cost_Elec = Data[1:8760,6]\n",
    "# from commodity prices on excel -- eur/kWh Elec"
   ]
  },
  {
   "cell_type": "code",
   "execution_count": null,
   "id": "548e6749",
   "metadata": {},
   "outputs": [],
   "source": [
    "\n",
    "@constraint(P_Batt[1:8760]*3600 < BatteryMaxCap) ##StateOfChargeArray[1:8760] ##check indexing\n",
    "    \n",
    "\n",
    "\n",
    "\n",
    "\n",
    "optimize!(model)\n"
   ]
  },
  {
   "cell_type": "markdown",
   "id": "93bfbb78",
   "metadata": {},
   "source": [
    "PowerDifference = Production - Demand \tkW\n",
    "Energy Difference = Power Difference * 3600\n",
    "\n",
    "Option 1: NEG -- Pull Power from the Battery\n",
    "Option 2: NEG -- Buy Pwoer from the Grid\n",
    "Option 3: POS -- Save Power to the Battery\n",
    "Option 4: POS -- Sell Power to the Grid"
   ]
  },
  {
   "cell_type": "markdown",
   "id": "d80c9ece",
   "metadata": {},
   "source": [
    "Objective Function is to minimize electricity costs\n",
    "1) Battery Investment Costs\n",
    "(Battery Rated Capacity * Cost of Battery Energy) + (Battery Rated Power * Cost of Battery Power)\n",
    "\n",
    "2) Present Value of Operation & Maintenance Costs for Battery\n",
    "SUM for every year -- the investment horizon\n",
    "    (Battery Rated Capacity * Fixed Yearly O&M Costs)/ (1+discountrate)^Year\n",
    "    \n",
    "3) Residual Value of Battery at the end of horizon Y (Depreciation or Energy???)\n",
    "\n",
    "4) Costs/ Revenue from Buying & Selling to Market\n",
    "SUM for every year -- \n",
    "    Sum for every hour (1:8760)\n",
    "        (Price of Electricity * Power to/from Grid) / (1+discountrate)^year\n",
    "Note: This assumes that electricity is bouht and sold at the same price. \n",
    "RUN A BINARY SIMLULATION LATER TO DEAL WITH THIS"
   ]
  }
 ],
 "metadata": {
  "kernelspec": {
   "display_name": "Julia 1.5.3",
   "language": "julia",
   "name": "julia-1.5"
  },
  "language_info": {
   "file_extension": ".jl",
   "mimetype": "application/julia",
   "name": "julia",
   "version": "1.5.3"
  }
 },
 "nbformat": 4,
 "nbformat_minor": 5
}
